{
  "nbformat": 4,
  "nbformat_minor": 0,
  "metadata": {
    "colab": {
      "provenance": [],
      "include_colab_link": true
    },
    "kernelspec": {
      "name": "python3",
      "display_name": "Python 3"
    },
    "language_info": {
      "name": "python"
    }
  },
  "cells": [
    {
      "cell_type": "markdown",
      "metadata": {
        "id": "view-in-github",
        "colab_type": "text"
      },
      "source": [
        "<a href=\"https://colab.research.google.com/github/carsofferrei/edit-g2-final-project/blob/streaming_measures_calculations/Streaming_Final_Notebook.ipynb\" target=\"_parent\"><img src=\"https://colab.research.google.com/assets/colab-badge.svg\" alt=\"Open In Colab\"/></a>"
      ]
    },
    {
      "cell_type": "markdown",
      "source": [
        "# **1. Import Libraries**"
      ],
      "metadata": {
        "id": "DXgJYVg0wSqN"
      }
    },
    {
      "cell_type": "code",
      "source": [
        "import os\n",
        "from pyspark.sql import SparkSession\n",
        "from pyspark.sql.types import StructType, StructField, StringType, IntegerType, DoubleType, LongType\n",
        "from pyspark.sql.functions import col, count, sum, lit, window, first, sqrt, pow, last, when\n",
        "from pyspark.sql.window import Window\n",
        "import time"
      ],
      "metadata": {
        "id": "b3HxQo2XZX7y"
      },
      "execution_count": 13,
      "outputs": []
    },
    {
      "cell_type": "markdown",
      "source": [
        "# **2. Set Up Environment**"
      ],
      "metadata": {
        "id": "zDVK46WfZ09F"
      }
    },
    {
      "cell_type": "code",
      "source": [
        "# Install required packages and dependencies\n",
        "!apt-get install openjdk-11-jdk-headless -qq > /dev/null\n",
        "!pip install pyspark==3.5.0 -q\n",
        "!pip install gcsfs -q\n",
        "!wget https://repo1.maven.org/maven2/com/google/cloud/bigdataoss/gcs-connector/hadoop3-2.2.7/gcs-connector-hadoop3-2.2.7-shaded.jar -P /usr/local/lib/\n",
        "!gcloud auth application-default login\n",
        "\n",
        "# Remove all files in the /content/output directory to clean up before processing\n",
        "!rm -rf /content/output/*\n"
      ],
      "metadata": {
        "colab": {
          "base_uri": "https://localhost:8080/"
        },
        "id": "DvsYhdONZ4AW",
        "outputId": "355f6711-5349-4bfb-d428-708fd7f9693d"
      },
      "execution_count": 2,
      "outputs": [
        {
          "output_type": "stream",
          "name": "stdout",
          "text": [
            "\u001b[2K     \u001b[90m━━━━━━━━━━━━━━━━━━━━━━━━━━━━━━━━━━━━━━━━\u001b[0m \u001b[32m316.9/316.9 MB\u001b[0m \u001b[31m5.4 MB/s\u001b[0m eta \u001b[36m0:00:00\u001b[0m\n",
            "\u001b[?25h  Preparing metadata (setup.py) ... \u001b[?25l\u001b[?25hdone\n",
            "  Building wheel for pyspark (setup.py) ... \u001b[?25l\u001b[?25hdone\n",
            "--2025-01-24 18:56:06--  https://repo1.maven.org/maven2/com/google/cloud/bigdataoss/gcs-connector/hadoop3-2.2.7/gcs-connector-hadoop3-2.2.7-shaded.jar\n",
            "Resolving repo1.maven.org (repo1.maven.org)... 199.232.192.209, 199.232.196.209, 2a04:4e42:4c::209, ...\n",
            "Connecting to repo1.maven.org (repo1.maven.org)|199.232.192.209|:443... connected.\n",
            "HTTP request sent, awaiting response... 200 OK\n",
            "Length: 33831577 (32M) [application/java-archive]\n",
            "Saving to: ‘/usr/local/lib/gcs-connector-hadoop3-2.2.7-shaded.jar’\n",
            "\n",
            "gcs-connector-hadoo 100%[===================>]  32.26M  --.-KB/s    in 0.1s    \n",
            "\n",
            "2025-01-24 18:56:07 (278 MB/s) - ‘/usr/local/lib/gcs-connector-hadoop3-2.2.7-shaded.jar’ saved [33831577/33831577]\n",
            "\n",
            "Go to the following link in your browser, and complete the sign-in prompts:\n",
            "\n",
            "    https://accounts.google.com/o/oauth2/auth?response_type=code&client_id=764086051850-6qr4p6gpi6hn506pt8ejuq83di341hur.apps.googleusercontent.com&redirect_uri=https%3A%2F%2Fsdk.cloud.google.com%2Fapplicationdefaultauthcode.html&scope=openid+https%3A%2F%2Fwww.googleapis.com%2Fauth%2Fuserinfo.email+https%3A%2F%2Fwww.googleapis.com%2Fauth%2Fcloud-platform+https%3A%2F%2Fwww.googleapis.com%2Fauth%2Fsqlservice.login&state=FGOdEQXWytDtLIPwljXcynJAqkZkjb&prompt=consent&token_usage=remote&access_type=offline&code_challenge=qjQJylopwXiJPeMstJoha-I-9uyqi0netX2UAk8WXxE&code_challenge_method=S256\n",
            "\n",
            "Once finished, enter the verification code provided in your browser: 4/0ASVgi3Kc8IYzJ9k8lHBs78FO80jkKNubOA7O9gEs5PlrIpRWZTVzJ4iPeCvpN3fqGjWSEQ\n",
            "\n",
            "Credentials saved to file: [/content/.config/application_default_credentials.json]\n",
            "\n",
            "These credentials will be used by any library that requests Application Default Credentials (ADC).\n",
            "\u001b[1;33mWARNING:\u001b[0m \n",
            "Cannot find a quota project to add to ADC. You might receive a \"quota exceeded\" or \"API not enabled\" error. Run $ gcloud auth application-default set-quota-project to add a quota project.\n"
          ]
        }
      ]
    },
    {
      "cell_type": "markdown",
      "source": [
        "# **3. Create Spark Session and Configure GCS**"
      ],
      "metadata": {
        "id": "TPENZj6iZ6Q8"
      }
    },
    {
      "cell_type": "code",
      "source": [
        "# Create the Spark session with the GCS connector\n",
        "spark = SparkSession.builder \\\n",
        "    .appName(\"GCSReadVehicles\") \\\n",
        "    .config(\"spark.jars\", \"/usr/local/lib/gcs-connector-hadoop3-2.2.7-shaded.jar\") \\\n",
        "    .config(\"spark.hadoop.fs.gs.impl\", \"com.google.cloud.hadoop.fs.gcs.GoogleHadoopFileSystem\") \\\n",
        "    .getOrCreate()\n",
        "\n",
        "# Path to the credentials file generated by gcloud\n",
        "credential_path = \"/content/.config/application_default_credentials.json\"\n",
        "\n",
        "# Set up the environment for credentials\n",
        "os.environ[\"GOOGLE_APPLICATION_CREDENTIALS\"] = credential_path\n",
        "\n",
        "# Configure PySpark to access GCS\n",
        "spark._jsc.hadoopConfiguration().set(\"fs.gs.impl\", \"com.google.cloud.hadoop.fs.gcs.GoogleHadoopFileSystem\")\n",
        "spark._jsc.hadoopConfiguration().set(\"fs.AbstractFileSystem.gs.impl\", \"com.google.cloud.hadoop.fs.gcs.GoogleHadoopFS\")\n",
        "spark._jsc.hadoopConfiguration().set(\"fs.gs.auth.service.account.enable\", \"true\")\n",
        "spark._jsc.hadoopConfiguration().set(\"google.cloud.auth.service.account.json.keyfile\", credential_path)\n"
      ],
      "metadata": {
        "id": "-WgLaNN8Z-Ug"
      },
      "execution_count": 14,
      "outputs": []
    },
    {
      "cell_type": "markdown",
      "source": [
        "# **4. Define Input Path and Schema**\n"
      ],
      "metadata": {
        "id": "VqPojnIbaCnd"
      }
    },
    {
      "cell_type": "code",
      "source": [
        "# GCS bucket path\n",
        "bucket_path = \"gs://edit-de-project-streaming-data/carris-vehicles/\"\n",
        "\n",
        "# Define schema for JSON data\n",
        "schema = StructType([\n",
        "    StructField(\"bearing\", LongType(), True),\n",
        "    StructField(\"block_id\", StringType(), True),\n",
        "    StructField(\"current_status\", StringType(), True),\n",
        "    StructField(\"id\", StringType(), True),\n",
        "    StructField(\"lat\", DoubleType(), True),\n",
        "    StructField(\"line_id\", StringType(), True),\n",
        "    StructField(\"lon\", DoubleType(), True),\n",
        "    StructField(\"pattern_id\", StringType(), True),\n",
        "    StructField(\"route_id\", StringType(), True),\n",
        "    StructField(\"schedule_relationship\", StringType(), True),\n",
        "    StructField(\"shift_id\", StringType(), True),\n",
        "    StructField(\"speed\", DoubleType(), True),\n",
        "    StructField(\"stop_id\", StringType(), True),\n",
        "    StructField(\"timestamp\", LongType(), True),\n",
        "    StructField(\"trip_id\", StringType(), True),\n",
        "])\n"
      ],
      "metadata": {
        "id": "SbNO4TjzaFLq"
      },
      "execution_count": 15,
      "outputs": []
    },
    {
      "cell_type": "markdown",
      "source": [
        "# **5. Read Streaming Data**\n"
      ],
      "metadata": {
        "id": "Gwg7ZLpNaJae"
      }
    },
    {
      "cell_type": "code",
      "source": [
        "# Read data from GCS in streaming mode with a predefined schema\n",
        "df = spark.readStream \\\n",
        "    .format(\"json\") \\\n",
        "    .schema(schema) \\\n",
        "    .option(\"maxFilesPerTrigger\", 5) \\\n",
        "    .load(bucket_path)\n",
        "\n",
        "# Path to store the processed output\n",
        "bronze_output_path = \"output/bronze\"\n",
        "\n",
        "# Ensure the timestamp column is in the correct format\n",
        "df = df.withColumn(\"timestamp\", col(\"timestamp\").cast(\"timestamp\"))\n"
      ],
      "metadata": {
        "id": "orv-ceSuaNAJ"
      },
      "execution_count": 16,
      "outputs": []
    },
    {
      "cell_type": "markdown",
      "source": [
        "# **6. Perform Aggregations**\n"
      ],
      "metadata": {
        "id": "cothNFF3aQHn"
      }
    },
    {
      "cell_type": "code",
      "source": [
        "# Define a 2-minute window for aggregations\n",
        "agg_distance = df.withWatermark(\"timestamp\", \"2 minutes\") \\\n",
        "    .groupBy(\"id\", window(col(\"timestamp\"), \"2 minutes\")) \\\n",
        "    .agg(\n",
        "        first(\"lat\").alias(\"start_lat\"),\n",
        "        first(\"lon\").alias(\"start_lon\"),\n",
        "        last(\"lat\").alias(\"end_lat\"),\n",
        "        last(\"lon\").alias(\"end_lon\"),\n",
        "        count(\"*\").alias(\"data_points\")\n",
        "    )\n",
        "\n",
        "# Calculate distance using the Euclidean distance formula between the first and last points\n",
        "agg_distance = agg_distance.withColumn(\n",
        "    \"distance\",\n",
        "    sqrt(pow(col(\"end_lat\") - col(\"start_lat\"), 2) + pow(col(\"end_lon\") - col(\"start_lon\"), 2)) * lit(111)  # Approximation for km\n",
        ")\n",
        "\n",
        "# Calculate the average speed (km/h) based on distance and time\n",
        "agg_speed = agg_distance.withColumn(\n",
        "    \"average_speed_kmh\",\n",
        "    (col(\"distance\") / lit(2 / 60))  # Convert 2 minutes to hours\n",
        ")\n",
        "\n",
        "# Add columns to define current_stop or next_stop based on current_status\n",
        "df = df.withColumn(\n",
        "    \"stop\",\n",
        "    when(col(\"current_status\") == \"stopped_at\", col(\"stop_id\")).otherwise(lit(\"-1\"))\n",
        ")\n",
        "\n",
        "df = df.withColumn(\n",
        "    \"next_stop\",\n",
        "    when(col(\"current_status\") != \"stopped_at\", col(\"stop_id\")).otherwise(lit(\"-1\"))\n",
        ")\n",
        "\n",
        "# Aggregate vehicle attributes in the same 2-minute window\n",
        "windowed_df = df.withWatermark(\"timestamp\", \"2 minutes\") \\\n",
        "    .groupBy(\"id\", window(col(\"timestamp\"), \"2 minutes\")) \\\n",
        "    .agg(\n",
        "        first(\"line_id\").alias(\"line\"),\n",
        "        first(\"route_id\").alias(\"route\"),\n",
        "        first(\"bearing\").alias(\"direction\"),\n",
        "        first(\"stop\").alias(\"current_stop\"),\n",
        "        first(\"next_stop\").alias(\"next_stop\"),\n",
        "        count(\"*\").alias(\"data_points\")\n",
        "    )\n",
        "\n",
        "# Drop unnecessary columns\n",
        "windowed_df = windowed_df.drop(\"data_points\")"
      ],
      "metadata": {
        "id": "yJQxSuxaaS5m"
      },
      "execution_count": 17,
      "outputs": []
    },
    {
      "cell_type": "markdown",
      "source": [
        "# **7. Join Data and Write to Bronze Layer**"
      ],
      "metadata": {
        "id": "B4wg1yEjaWx5"
      }
    },
    {
      "cell_type": "code",
      "source": [
        "# Join speed and distance data with vehicle attributes\n",
        "final_result = agg_speed.join(windowed_df, [\"id\", \"window\"], \"inner\") \\\n",
        "    .drop(\"data_points\", \"start_lat\", \"start_lon\", \"end_lat\", \"end_lon\")\n",
        "\n",
        "# Write the results to the Bronze layer\n",
        "query_bronze = final_result.writeStream \\\n",
        "    .outputMode(\"append\") \\\n",
        "    .format(\"parquet\") \\\n",
        "    .option(\"path\", bronze_output_path) \\\n",
        "    .option(\"checkpointLocation\", f\"{bronze_output_path}/_checkpoint\") \\\n",
        "    .start()\n",
        "\n",
        "# Allow the streaming query to run for 240 seconds\n",
        "time.sleep(240)\n",
        "query_bronze.stop()"
      ],
      "metadata": {
        "id": "wgFKvaDQaZT_"
      },
      "execution_count": 18,
      "outputs": []
    },
    {
      "cell_type": "markdown",
      "source": [
        "# **8. Optional: Write Data to GCS**\n"
      ],
      "metadata": {
        "id": "6XgDF05datui"
      }
    },
    {
      "cell_type": "code",
      "source": [
        "\"\"\"\n",
        "To save data in the bucket\n",
        "def write_to_gcs(batch_df, batch_id):\n",
        "    batch_df.write \\\n",
        "        .mode(\"append\") \\\n",
        "        .format(\"parquet\") \\\n",
        "        .option(\"path\", \"gs://edit-data-eng-project-group2/vehicles_data/\") \\\n",
        "        .save()\n",
        "\n",
        "query_bronze = final_result.writeStream \\\n",
        "    .outputMode(\"append\") \\\n",
        "    .foreachBatch(write_to_gcs) \\\n",
        "    .option(\"checkpointLocation\", \"gs://edit-data-eng-project-group2/vehicles_data/_checkpoint\") \\\n",
        "    .trigger(processingTime=\"30 seconds\") \\\n",
        "    .start()\n",
        "\"\"\""
      ],
      "metadata": {
        "colab": {
          "base_uri": "https://localhost:8080/",
          "height": 70
        },
        "id": "mDkxdElsai8j",
        "outputId": "4931c17a-7c57-43d3-9963-1822211f62d2"
      },
      "execution_count": null,
      "outputs": [
        {
          "output_type": "execute_result",
          "data": {
            "text/plain": [
              "'\\nTo save data in the bucket\\ndef write_to_gcs(batch_df, batch_id):\\n    batch_df.write         .mode(\"append\")         .format(\"parquet\")         .option(\"path\", \"gs://edit-data-eng-project-group2/vehicles_data/\")         .save()\\n\\nquery_bronze = final_result.writeStream     .outputMode(\"append\")     .foreachBatch(write_to_gcs)     .option(\"checkpointLocation\", \"gs://edit-data-eng-project-group2/vehicles_data/_checkpoint\")     .trigger(processingTime=\"30 seconds\")     .start()\\n'"
            ],
            "application/vnd.google.colaboratory.intrinsic+json": {
              "type": "string"
            }
          },
          "metadata": {},
          "execution_count": 8
        }
      ]
    },
    {
      "cell_type": "markdown",
      "source": [
        "# **9. Read and Display Data from Bronze Layer**"
      ],
      "metadata": {
        "id": "uikvka7DaeaH"
      }
    },
    {
      "cell_type": "code",
      "source": [
        "output_df = spark.read.format(\"parquet\").load(\"/content/output/bronze\")\n",
        "output_df.show()"
      ],
      "metadata": {
        "colab": {
          "base_uri": "https://localhost:8080/"
        },
        "id": "2AmFuLIQtMF8",
        "outputId": "74fcad73-3bb9-4c33-9190-b3a678a93242"
      },
      "execution_count": 23,
      "outputs": [
        {
          "output_type": "stream",
          "name": "stdout",
          "text": [
            "+---+------+--------+-----------------+----+-----+---------+------------+---------+\n",
            "| id|window|distance|average_speed_kmh|line|route|direction|current_stop|next_stop|\n",
            "+---+------+--------+-----------------+----+-----+---------+------------+---------+\n",
            "+---+------+--------+-----------------+----+-----+---------+------------+---------+\n",
            "\n"
          ]
        }
      ]
    },
    {
      "cell_type": "markdown",
      "source": [
        "![image.png](data:image/png;base64,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)"
      ],
      "metadata": {
        "id": "VcVNmmpM0UXE"
      }
    }
  ]
}